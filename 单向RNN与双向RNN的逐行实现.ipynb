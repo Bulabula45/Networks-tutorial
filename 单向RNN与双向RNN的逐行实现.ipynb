{
 "cells": [
  {
   "cell_type": "code",
   "execution_count": 1,
   "id": "718e97bd",
   "metadata": {},
   "outputs": [],
   "source": [
    "import torch\n",
    "import torch.nn as nn"
   ]
  },
  {
   "cell_type": "code",
   "execution_count": 12,
   "id": "303b128e",
   "metadata": {},
   "outputs": [
    {
     "name": "stdout",
     "output_type": "stream",
     "text": [
      "PyTorch API output:\n",
      "tensor([[[-0.8279,  0.6314, -0.5839],\n",
      "         [-0.6335,  0.5656, -0.3044],\n",
      "         [-0.3409,  0.0547,  0.0663]],\n",
      "\n",
      "        [[-0.5628,  0.2018, -0.4109],\n",
      "         [-0.7456,  0.7154, -0.4198],\n",
      "         [-0.6271,  0.4133, -0.2339]]], grad_fn=<TransposeBackward1>)\n",
      "tensor([[[-0.3409,  0.0547,  0.0663],\n",
      "         [-0.6271,  0.4133, -0.2339]]], grad_fn=<StackBackward0>)\n"
     ]
    }
   ],
   "source": [
    "bs, T = 2, 3 #batch大小，序列长度\n",
    "input_size, hidden_size = 2, 3\n",
    "inputs = torch.randn(bs, T, input_size)\n",
    "h_prev = torch.zeros(bs, hidden_size)\n",
    "\n",
    "rnn = nn.RNN(input_size, hidden_size, batch_first=True)\n",
    "rnn_output, state_final = rnn(inputs, h_prev.unsqueeze(0))\n",
    "print(\"PyTorch API output:\")\n",
    "print(rnn_output)\n",
    "print(state_final)"
   ]
  },
  {
   "cell_type": "code",
   "execution_count": 10,
   "id": "e84fcbb0",
   "metadata": {},
   "outputs": [],
   "source": [
    "#手写单向\n",
    "def rnn_forward(inputs, weight_ih, weight_hh, bias_ih, bias_hh, h_prev):\n",
    "    bs, T, input_size = inputs.shape\n",
    "    h_dim = weight_ih.shape[0]  #h_dim*input_size\n",
    "    h_out = torch.zeros(bs, T, h_dim)\n",
    "    \n",
    "    for t in range(T):\n",
    "        x = inputs[:, t, :].unsqueeze(2)  # 获取当前输入时刻特征，bs*input_size,扩充维度，bs*input_size*1\n",
    "        w_ih_batch = weight_ih.unsqueeze(0).tile(bs, 1, 1) # 扩充维度，复制 bs*h_dim*input_size\n",
    "        w_hh_batch = weight_hh.unsqueeze(0).tile(bs, 1, 1)\n",
    "        \n",
    "        w_times_x = torch.bmm(w_ih_batch, x).squeeze(-1)  #按批次矩阵乘法，去掉最后一维 bs*h_dim\n",
    "        w_times_h = torch.bmm(w_hh_batch, h_prev.unsqueeze(2)).squeeze(-1)  #bs*h_dim\n",
    "        \n",
    "        h_prev = torch.tanh(w_times_x+bias_ih+w_times_h+bias_hh)  #bs*h_dim\n",
    "        \n",
    "        h_out[:, t, :] = h_prev\n",
    "    \n",
    "    return h_out, h_prev.unsqueeze(0)  # bs*T*h_dim, 1*bs*h_dim"
   ]
  },
  {
   "cell_type": "code",
   "execution_count": 13,
   "id": "e6cbd97a",
   "metadata": {},
   "outputs": [
    {
     "name": "stdout",
     "output_type": "stream",
     "text": [
      "rnn_forward output:\n",
      "tensor([[[-0.8279,  0.6314, -0.5839],\n",
      "         [-0.6335,  0.5656, -0.3044],\n",
      "         [-0.3409,  0.0547,  0.0663]],\n",
      "\n",
      "        [[-0.5628,  0.2018, -0.4109],\n",
      "         [-0.7456,  0.7154, -0.4198],\n",
      "         [-0.6271,  0.4133, -0.2339]]], grad_fn=<CopySlices>) tensor([[[-0.3409,  0.0547,  0.0663],\n",
      "         [-0.6271,  0.4133, -0.2339]]], grad_fn=<UnsqueezeBackward0>)\n"
     ]
    }
   ],
   "source": [
    "#for k,v in rnn.named_parameters():\n",
    "#    print(k, v)\n",
    "h_out, h_final = rnn_forward(inputs, rnn.weight_ih_l0, rnn.weight_hh_l0, rnn.bias_ih_l0,\n",
    "                            rnn.bias_hh_l0, h_prev)\n",
    "print(\"rnn_forward output:\")\n",
    "print(h_out, h_final)"
   ]
  },
  {
   "cell_type": "code",
   "execution_count": 26,
   "id": "dadd18da",
   "metadata": {},
   "outputs": [],
   "source": [
    "def bidirectional_rnn_forward(inputs, weight_ih, weight_hh, bias_ih, bias_hh, h_prev, \\\n",
    "                             weight_ih_reverse, weight_hh_reverse, bias_ih_reverse, bias_hh_reverse, h_prev_reverse):\n",
    "    bs, T, input_size = inputs.shape\n",
    "    h_dim = weight_ih.shape[0]\n",
    "    h_out = torch.zeros(bs, T, h_dim * 2)  #双向是两倍特征大小\n",
    "    \n",
    "    forward_output = rnn_forward(inputs, weight_ih, weight_hh, bias_ih, bias_hh, h_prev)[0]  # bs*T*h_dim\n",
    "    # 在序列维度（第一维）上翻转，从最后一个单词到第一个单词\n",
    "    backward_output = rnn_forward(torch.flip(inputs, [1]), \n",
    "                             weight_ih_reverse, weight_hh_reverse, bias_ih_reverse, bias_hh_reverse, h_prev_reverse)[0]\n",
    "    \n",
    "    h_out[:, :, :h_dim] = forward_output\n",
    "    h_out[:, :, h_dim:] = torch.flip(backward_output,[1])  # 翻转回来,才能每个时间步的特征对应上\n",
    "    \n",
    "    h_n = torch.zeros(2, bs, h_dim)\n",
    "    #h_n[0, :, :] = h_out[:, -1, :h_dim]\n",
    "    #h_n[1, :, :] = h_out[:, 0, h_dim:]  # 反向的final是翻转后的first\n",
    "    h_n[0, :, :] = forward_output[:, -1, :]\n",
    "    h_n[1, :, :] = backward_output[:, -1, :]\n",
    "    return h_out, h_n"
   ]
  },
  {
   "cell_type": "code",
   "execution_count": 24,
   "id": "823eecc1",
   "metadata": {},
   "outputs": [
    {
     "name": "stdout",
     "output_type": "stream",
     "text": [
      "PyTorch API output:\n",
      "tensor([[[ 0.1362, -0.0957,  0.6336,  0.8974,  0.6554,  0.2893],\n",
      "         [-0.4360,  0.0530,  0.1111, -0.1689,  0.4685,  0.3232],\n",
      "         [ 0.4801, -0.3914, -0.3356, -0.5937,  0.5782,  0.8116]],\n",
      "\n",
      "        [[ 0.0231, -0.0647, -0.0660,  0.4987,  0.1443,  0.1118],\n",
      "         [ 0.0248, -0.0509,  0.3082,  0.7010,  0.5588,  0.1377],\n",
      "         [-0.0444, -0.0964,  0.0993, -0.0877,  0.4508,  0.6527]]],\n",
      "       grad_fn=<TransposeBackward1>)\n",
      "tensor([[[ 0.4801, -0.3914, -0.3356],\n",
      "         [-0.0444, -0.0964,  0.0993]],\n",
      "\n",
      "        [[ 0.8974,  0.6554,  0.2893],\n",
      "         [ 0.4987,  0.1443,  0.1118]]], grad_fn=<StackBackward0>)\n"
     ]
    }
   ],
   "source": [
    "h_prev = torch.zeros(bs, hidden_size)\n",
    "birnn = nn.RNN(input_size, hidden_size, batch_first=True, bidirectional=True)\n",
    "birnn_output, bistate_final = birnn(inputs, h_prev.unsqueeze(0).tile(2, 1, 1))\n",
    "print(\"PyTorch API output:\")\n",
    "print(birnn_output)  # bs,T,2*H_out \n",
    "print(bistate_final)  # 2,bs,H_out"
   ]
  },
  {
   "cell_type": "code",
   "execution_count": 27,
   "id": "034c8882",
   "metadata": {},
   "outputs": [
    {
     "name": "stdout",
     "output_type": "stream",
     "text": [
      "bidirectional_rnn_forward output:\n",
      "tensor([[[ 0.1362, -0.0957,  0.6336,  0.8974,  0.6554,  0.2893],\n",
      "         [-0.4360,  0.0530,  0.1111, -0.1689,  0.4685,  0.3232],\n",
      "         [ 0.4801, -0.3914, -0.3356, -0.5937,  0.5782,  0.8116]],\n",
      "\n",
      "        [[ 0.0231, -0.0647, -0.0660,  0.4987,  0.1443,  0.1118],\n",
      "         [ 0.0248, -0.0509,  0.3082,  0.7010,  0.5588,  0.1377],\n",
      "         [-0.0444, -0.0964,  0.0993, -0.0877,  0.4508,  0.6527]]],\n",
      "       grad_fn=<CopySlices>) tensor([[[ 0.4801, -0.3914, -0.3356],\n",
      "         [-0.0444, -0.0964,  0.0993]],\n",
      "\n",
      "        [[ 0.8974,  0.6554,  0.2893],\n",
      "         [ 0.4987,  0.1443,  0.1118]]], grad_fn=<CopySlices>)\n"
     ]
    }
   ],
   "source": [
    "#for k,v in birnn.named_parameters():\n",
    "#    print(k, v)\n",
    "h_prev = torch.zeros(2, bs, hidden_size)\n",
    "bih_out, bih_final = bidirectional_rnn_forward(inputs, birnn.weight_ih_l0, birnn.weight_hh_l0, birnn.bias_ih_l0, \\\n",
    "                            birnn.bias_hh_l0, h_prev[0], \\\n",
    "                            birnn.weight_ih_l0_reverse, birnn.weight_hh_l0_reverse, birnn.bias_ih_l0_reverse, \\\n",
    "                            birnn.bias_hh_l0_reverse, h_prev[1])\n",
    "print(\"bidirectional_rnn_forward output:\")\n",
    "print(bih_out, bih_final)"
   ]
  },
  {
   "cell_type": "code",
   "execution_count": null,
   "id": "08c7f761",
   "metadata": {},
   "outputs": [],
   "source": []
  }
 ],
 "metadata": {
  "kernelspec": {
   "display_name": "Python 3 (ipykernel)",
   "language": "python",
   "name": "python3"
  },
  "language_info": {
   "codemirror_mode": {
    "name": "ipython",
    "version": 3
   },
   "file_extension": ".py",
   "mimetype": "text/x-python",
   "name": "python",
   "nbconvert_exporter": "python",
   "pygments_lexer": "ipython3",
   "version": "3.9.7"
  },
  "varInspector": {
   "cols": {
    "lenName": 16,
    "lenType": 16,
    "lenVar": 40
   },
   "kernels_config": {
    "python": {
     "delete_cmd_postfix": "",
     "delete_cmd_prefix": "del ",
     "library": "var_list.py",
     "varRefreshCmd": "print(var_dic_list())"
    },
    "r": {
     "delete_cmd_postfix": ") ",
     "delete_cmd_prefix": "rm(",
     "library": "var_list.r",
     "varRefreshCmd": "cat(var_dic_list()) "
    }
   },
   "types_to_exclude": [
    "module",
    "function",
    "builtin_function_or_method",
    "instance",
    "_Feature"
   ],
   "window_display": true
  }
 },
 "nbformat": 4,
 "nbformat_minor": 5
}
