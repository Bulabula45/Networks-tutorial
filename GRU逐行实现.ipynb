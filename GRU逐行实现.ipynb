{
 "cells": [
  {
   "cell_type": "code",
   "execution_count": 2,
   "id": "590c530e",
   "metadata": {},
   "outputs": [],
   "source": [
    "import torch\n",
    "import torch.nn as nn"
   ]
  },
  {
   "cell_type": "code",
   "execution_count": 3,
   "id": "93bfd2ec",
   "metadata": {},
   "outputs": [],
   "source": [
    "bs, T, input_size = 3, 4, 5\n",
    "inputs = torch.randn(bs, T, input_size)\n",
    "hidden_size = 3"
   ]
  },
  {
   "cell_type": "code",
   "execution_count": 7,
   "id": "86b7aa23",
   "metadata": {},
   "outputs": [
    {
     "name": "stdout",
     "output_type": "stream",
     "text": [
      "output: torch.Size([3, 4, 3])\n",
      "tensor([[[-0.8074,  0.0164,  0.2317],\n",
      "         [-0.3491, -0.2538,  0.4215],\n",
      "         [ 0.3843, -0.5728,  0.4064],\n",
      "         [-0.0106, -0.5821,  0.2731]],\n",
      "\n",
      "        [[ 0.4062, -0.3633, -0.6866],\n",
      "         [-0.0600, -0.2247, -0.1095],\n",
      "         [ 0.3834, -0.4157, -0.0751],\n",
      "         [-0.4303, -0.1369, -0.1540]],\n",
      "\n",
      "        [[ 0.0753,  0.5420,  0.2229],\n",
      "         [ 0.1023, -0.5723,  0.7018],\n",
      "         [-0.0315, -0.6288,  0.5973],\n",
      "         [-0.1824, -0.5702,  0.4410]]], grad_fn=<TransposeBackward1>)\n",
      "--------------------------------------------------------------------------------\n",
      "h_final: torch.Size([1, 3, 3])\n",
      "tensor([[[-0.0106, -0.5821,  0.2731],\n",
      "         [-0.4303, -0.1369, -0.1540],\n",
      "         [-0.1824, -0.5702,  0.4410]]], grad_fn=<StackBackward0>)\n",
      "--------------------------------------------------------------------------------\n",
      "weight_ih_l0 torch.Size([9, 5])\n",
      "weight_hh_l0 torch.Size([9, 3])\n",
      "bias_ih_l0 torch.Size([9])\n",
      "bias_hh_l0 torch.Size([9])\n"
     ]
    }
   ],
   "source": [
    "h_0 = torch.randn(bs, hidden_size)\n",
    "gru_layer = nn.GRU(input_size, hidden_size, batch_first=True)\n",
    "output, h_final = gru_layer(inputs, h_0.unsqueeze(0))\n",
    "print(\"output:\", output.shape)\n",
    "print(output)\n",
    "print(\"----\" * 20)\n",
    "print(\"h_final:\", h_final.shape)\n",
    "print(h_final)\n",
    "print(\"----\" * 20)\n",
    "for k,v in gru_layer.named_parameters():\n",
    "    print(k,v.shape)\n",
    "#参数数量：3*hidden_size*input_size+3*hidden_size*hidden_size+3*hidden_size+3*hidden_size\n",
    "#lstm：4*hidden_size*input_size+4*hidden_size*hidden_size+4*hidden_size+4*hidden_size\n",
    "#lstm另一种表示是把h_prev和x拼接在一起，f_t = sigmoid(W_f·[h_prev, x] + b_f)\n",
    "#这种的参数数量是4*hidden_size*input_size+4*hidden_size*hidden_size+4*hidden_size，b_ih和b_hh共享了"
   ]
  },
  {
   "cell_type": "code",
   "execution_count": 10,
   "id": "8c1dde1b",
   "metadata": {},
   "outputs": [
    {
     "name": "stdout",
     "output_type": "stream",
     "text": [
      "forward_output: torch.Size([3, 4, 3])\n",
      "tensor([[[-0.8074,  0.0164,  0.2317],\n",
      "         [-0.3491, -0.2538,  0.4215],\n",
      "         [ 0.3843, -0.5728,  0.4064],\n",
      "         [-0.0106, -0.5821,  0.2731]],\n",
      "\n",
      "        [[ 0.4062, -0.3633, -0.6866],\n",
      "         [-0.0600, -0.2247, -0.1095],\n",
      "         [ 0.3834, -0.4157, -0.0751],\n",
      "         [-0.4303, -0.1369, -0.1540]],\n",
      "\n",
      "        [[ 0.0753,  0.5420,  0.2229],\n",
      "         [ 0.1023, -0.5723,  0.7018],\n",
      "         [-0.0315, -0.6288,  0.5973],\n",
      "         [-0.1824, -0.5702,  0.4410]]], grad_fn=<CopySlices>)\n",
      "--------------------------------------------------------------------------------\n",
      "forward_h_final: torch.Size([1, 3, 3])\n",
      "tensor([[[-0.0106, -0.5821,  0.2731],\n",
      "         [-0.4303, -0.1369, -0.1540],\n",
      "         [-0.1824, -0.5702,  0.4410]]], grad_fn=<UnsqueezeBackward0>)\n"
     ]
    }
   ],
   "source": [
    "def gru_forward(inputs, initial_states, w_ih, w_hh, b_ih, b_hh):\n",
    "    h_prev = initial_states  #bs,hidden_size\n",
    "    bs, T, input_size = inputs.shape\n",
    "    hidden_size = w_ih.shape[0] // 3\n",
    "    output = torch.zeros(bs, T, hidden_size)\n",
    "    \n",
    "    batch_w_ih = w_ih.unsqueeze(0).tile(bs, 1, 1)  # bs,3*hidden_size,input_size\n",
    "    batch_w_hh = w_hh.unsqueeze(0).tile(bs, 1, 1)  # bs,3*hidden_size,hidden_size\n",
    "    batch_b_ih = b_ih.unsqueeze(0).tile(bs, 1)  # bs,3*hidden_size\n",
    "    batch_b_hh = b_hh.unsqueeze(0).tile(bs, 1)  # bs,3*hidden_size\n",
    "    \n",
    "    for t in range(T):\n",
    "        x = inputs[:, t, :]\n",
    "        w_times_x = torch.bmm(batch_w_ih, x.unsqueeze(-1)).squeeze(-1)\n",
    "        #bs,3*h_size,i_size与bs,i_size,1 -> bs,3*h_size,1 -> bs,3*h_size\n",
    "        w_times_h = torch.bmm(batch_w_hh, h_prev.unsqueeze(-1)).squeeze(-1)\n",
    "        #bs,3*h_size,h_size与bs,h_size,1 -> bs,3*h_size,1 -> bs,3*h_size\n",
    "        r_t = torch.sigmoid(w_times_x[:, :hidden_size] + batch_b_ih[:, :hidden_size] + \\\n",
    "                          w_times_h[:, :hidden_size] + batch_b_hh[:, :hidden_size])\n",
    "        z_t = torch.sigmoid(w_times_x[:, hidden_size:2*hidden_size] + batch_b_ih[:, hidden_size:2*hidden_size] + \\\n",
    "                          w_times_h[:, hidden_size:2*hidden_size] + batch_b_hh[:, hidden_size:2*hidden_size])\n",
    "        n_t = torch.tanh(w_times_x[:, 2*hidden_size:] + batch_b_ih[:, 2*hidden_size:] + r_t * ( \\\n",
    "                        w_times_h[:, 2*hidden_size:] + batch_b_hh[:, 2*hidden_size:]))\n",
    "        h_prev = (1 - z_t) * n_t + z_t * h_prev\n",
    "        output[:, t, :] = h_prev\n",
    "    \n",
    "    return output, h_prev.unsqueeze(0)\n",
    "\n",
    "\n",
    "forward_output, forward_h_final = gru_forward(inputs, h_0, gru_layer.weight_ih_l0, gru_layer.weight_hh_l0, \\\n",
    "                                             gru_layer.bias_ih_l0, gru_layer.bias_hh_l0)\n",
    "print(\"forward_output:\", forward_output.shape)\n",
    "print(forward_output)\n",
    "print(\"----\" * 20)\n",
    "print(\"forward_h_final:\", forward_h_final.shape)\n",
    "print(forward_h_final)"
   ]
  },
  {
   "cell_type": "code",
   "execution_count": 11,
   "id": "9e610784",
   "metadata": {},
   "outputs": [],
   "source": [
    "#查看参数数量\n",
    "test_lstm_layer = nn.LSTM(3, 5)\n",
    "test_gru_layer = nn.GRU(3, 5)"
   ]
  },
  {
   "cell_type": "code",
   "execution_count": 12,
   "id": "65eb60e5",
   "metadata": {},
   "outputs": [
    {
     "data": {
      "text/plain": [
       "(200, 200)"
      ]
     },
     "execution_count": 12,
     "metadata": {},
     "output_type": "execute_result"
    }
   ],
   "source": [
    "sum(v.numel() for k, v in test_lstm_layer.named_parameters()), 4*(5*5 + 5*3 + 5 + 5)"
   ]
  },
  {
   "cell_type": "code",
   "execution_count": 13,
   "id": "3fa47cd0",
   "metadata": {},
   "outputs": [
    {
     "data": {
      "text/plain": [
       "(150, 150)"
      ]
     },
     "execution_count": 13,
     "metadata": {},
     "output_type": "execute_result"
    }
   ],
   "source": [
    "sum(v.numel() for k, v in test_gru_layer.named_parameters()), 3*(5*5 + 5*3 + 5 + 5)"
   ]
  },
  {
   "cell_type": "code",
   "execution_count": null,
   "id": "8177ab02",
   "metadata": {},
   "outputs": [],
   "source": []
  }
 ],
 "metadata": {
  "kernelspec": {
   "display_name": "Python 3 (ipykernel)",
   "language": "python",
   "name": "python3"
  },
  "language_info": {
   "codemirror_mode": {
    "name": "ipython",
    "version": 3
   },
   "file_extension": ".py",
   "mimetype": "text/x-python",
   "name": "python",
   "nbconvert_exporter": "python",
   "pygments_lexer": "ipython3",
   "version": "3.9.7"
  },
  "varInspector": {
   "cols": {
    "lenName": 16,
    "lenType": 16,
    "lenVar": 40
   },
   "kernels_config": {
    "python": {
     "delete_cmd_postfix": "",
     "delete_cmd_prefix": "del ",
     "library": "var_list.py",
     "varRefreshCmd": "print(var_dic_list())"
    },
    "r": {
     "delete_cmd_postfix": ") ",
     "delete_cmd_prefix": "rm(",
     "library": "var_list.r",
     "varRefreshCmd": "cat(var_dic_list()) "
    }
   },
   "types_to_exclude": [
    "module",
    "function",
    "builtin_function_or_method",
    "instance",
    "_Feature"
   ],
   "window_display": false
  }
 },
 "nbformat": 4,
 "nbformat_minor": 5
}
