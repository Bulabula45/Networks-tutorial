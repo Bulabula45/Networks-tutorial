{
 "cells": [
  {
   "cell_type": "code",
   "execution_count": 38,
   "id": "925db67d",
   "metadata": {},
   "outputs": [],
   "source": [
    "import torch\n",
    "import torch_geometric\n",
    "import torch_geometric.nn as nn\n",
    "import torch.nn.functional as F\n",
    "import numpy as np"
   ]
  },
  {
   "cell_type": "code",
   "execution_count": 26,
   "id": "f48b55b7",
   "metadata": {},
   "outputs": [],
   "source": [
    "x = torch.randn(5, 2)"
   ]
  },
  {
   "cell_type": "code",
   "execution_count": 135,
   "id": "f4a63f6b",
   "metadata": {},
   "outputs": [
    {
     "data": {
      "text/plain": [
       "(tensor([[0, 0, 1, 1, 3, 3, 3, 4, 4, 4],\n",
       "         [3, 4, 3, 4, 0, 1, 4, 0, 1, 3]]),\n",
       " tensor([[0, 0, 0, 1, 1],\n",
       "         [0, 0, 0, 1, 1],\n",
       "         [0, 0, 0, 0, 0],\n",
       "         [1, 1, 0, 0, 1],\n",
       "         [1, 1, 0, 1, 0]]))"
      ]
     },
     "execution_count": 135,
     "metadata": {},
     "output_type": "execute_result"
    }
   ],
   "source": [
    "edge_index = np.random.randint(0, 5, (10, 2))\n",
    "edge_matrix = torch.zeros((5, 5),dtype=torch.long)\n",
    "for pos in edge_index:\n",
    "    edge_matrix[pos[0], pos[1]] = 1\n",
    "    edge_matrix[pos[1], pos[0]] = 1\n",
    "for i in range(edge_matrix.shape[0]):\n",
    "    edge_matrix[i][i] = 0\n",
    "edge_index = np.concatenate([np.where(edge_matrix.numpy() == 1)], axis=1)\n",
    "edge_index = torch.from_numpy(edge_index)\n",
    "edge_index, edge_matrix"
   ]
  },
  {
   "cell_type": "code",
   "execution_count": 136,
   "id": "582c2052",
   "metadata": {},
   "outputs": [
    {
     "name": "stdout",
     "output_type": "stream",
     "text": [
      "Api out: \n",
      " tensor([[ 0.0818,  0.8151,  0.7033],\n",
      "        [ 0.1497,  0.5080,  0.4334],\n",
      "        [ 1.9875,  1.1867,  0.9308],\n",
      "        [-0.0979,  0.3504,  0.3090],\n",
      "        [-0.0979,  0.3504,  0.3090]], grad_fn=<AddBackward0>)\n"
     ]
    }
   ],
   "source": [
    "#[nodes, input_dim] -> [nodes, output_dim]\n",
    "gcnlayer = nn.GCNConv(2, 3)\n",
    "api_out = gcnlayer(x, edge_index)\n",
    "print(\"Api out: \\n\",api_out)"
   ]
  },
  {
   "cell_type": "code",
   "execution_count": 137,
   "id": "b3453f4e",
   "metadata": {},
   "outputs": [
    {
     "name": "stdout",
     "output_type": "stream",
     "text": [
      "Out: \n",
      " tensor([[ 0.0818,  0.8151,  0.7033],\n",
      "        [ 0.1497,  0.5080,  0.4334],\n",
      "        [ 1.9875,  1.1867,  0.9308],\n",
      "        [-0.0979,  0.3504,  0.3090],\n",
      "        [-0.0979,  0.3504,  0.3090]])\n"
     ]
    }
   ],
   "source": [
    "weight = gcnlayer.lin.weight.data\n",
    "out = x @ weight.t() # [nodes, input_dim] -> [nodes, output_dim]\n",
    "edge_matrix = torch.diag(torch.ones(edge_matrix.shape[0])) + edge_matrix #自连矩阵\n",
    "deg = torch.sum(edge_matrix, dim=-1) \n",
    "deg = torch.sqrt(deg).unsqueeze(0) #度数开方\n",
    "# 先聚合邻居信息，每个邻居的重要性用度数归一，然后每个节点用自身度数归一\n",
    "out = edge_matrix / torch.tile(deg, (edge_matrix.shape[0], 1)) @ out / deg.t()\n",
    "print(\"Out: \\n\", out)"
   ]
  },
  {
   "cell_type": "code",
   "execution_count": 130,
   "id": "3bf0c4e5",
   "metadata": {},
   "outputs": [
    {
     "data": {
      "text/plain": [
       "tensor([[ 0.1433, -0.2548,  0.4093],\n",
       "        [-0.4932,  0.0257, -0.5951],\n",
       "        [-0.4949, -0.0991, -0.4778],\n",
       "        [-0.4960, -0.2587, -0.3265],\n",
       "        [-0.4949, -0.0991, -0.4778]])"
      ]
     },
     "execution_count": 130,
     "metadata": {},
     "output_type": "execute_result"
    }
   ],
   "source": []
  }
 ],
 "metadata": {
  "kernelspec": {
   "display_name": "Python 3 (ipykernel)",
   "language": "python",
   "name": "python3"
  },
  "language_info": {
   "codemirror_mode": {
    "name": "ipython",
    "version": 3
   },
   "file_extension": ".py",
   "mimetype": "text/x-python",
   "name": "python",
   "nbconvert_exporter": "python",
   "pygments_lexer": "ipython3",
   "version": "3.9.7"
  },
  "varInspector": {
   "cols": {
    "lenName": 16,
    "lenType": 16,
    "lenVar": 40
   },
   "kernels_config": {
    "python": {
     "delete_cmd_postfix": "",
     "delete_cmd_prefix": "del ",
     "library": "var_list.py",
     "varRefreshCmd": "print(var_dic_list())"
    },
    "r": {
     "delete_cmd_postfix": ") ",
     "delete_cmd_prefix": "rm(",
     "library": "var_list.r",
     "varRefreshCmd": "cat(var_dic_list()) "
    }
   },
   "types_to_exclude": [
    "module",
    "function",
    "builtin_function_or_method",
    "instance",
    "_Feature"
   ],
   "window_display": true
  }
 },
 "nbformat": 4,
 "nbformat_minor": 5
}
